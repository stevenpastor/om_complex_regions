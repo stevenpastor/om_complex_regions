{
 "cells": [
  {
   "cell_type": "markdown",
   "metadata": {},
   "source": [
    "# Determine Genome Complexity \n",
    "- Before running the complex regions pipeline, we need to determine whether the genomes are complicated from a mapping standpoint. \n",
    "    - Example: chrX:103582501-104537897 from Yulia's genomic_disorder_loci.xlsx file\n",
    "    - 11948B is heterozygous (one with an inversion and the other is a deletion)\n",
    "    - 12371C is homozygous (both have a small deletion) \n",
    "    - When ran through separate_alignments.sh with COMPLEX_LABELS=16 (config file), the pipeline was able to find completely spanning molecules and it was easy to see the two haplotypes right off the bat \n",
    "- We check if a region has 2 contiguous cmaps from the de novo assembly\n",
    "    - output/contigs/exp_refineFinal1/alignref_final/EXP_REFINEFINAL1.xmap/q.cmap/r.cmap\n",
    "- Then we get the molecules per cmap and see if they support the 2 haplotypes. If they do, then the genome is done and does not need to be ran through the pipeline. \n",
    "- This way, we will have data for some genomes' complex regions and speeds up the process. Then we process whatever is left. \n"
   ]
  }
 ],
 "metadata": {
  "kernelspec": {
   "display_name": "Python 3",
   "language": "python",
   "name": "python3"
  },
  "language_info": {
   "codemirror_mode": {
    "name": "ipython",
    "version": 3
   },
   "file_extension": ".py",
   "mimetype": "text/x-python",
   "name": "python",
   "nbconvert_exporter": "python",
   "pygments_lexer": "ipython3",
   "version": "3.6.2"
  }
 },
 "nbformat": 4,
 "nbformat_minor": 2
}
